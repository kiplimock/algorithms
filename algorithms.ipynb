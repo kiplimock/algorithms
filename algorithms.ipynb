{
 "cells": [
  {
   "cell_type": "markdown",
   "metadata": {},
   "source": [
    "##### This notebook is based on the book `Grokking Algorithms` by Aditya Bhargava\n",
    "1. Binary Search"
   ]
  },
  {
   "cell_type": "code",
   "execution_count": 22,
   "metadata": {},
   "outputs": [],
   "source": [
    "def binary_search(lst, item):\n",
    "    low = 0\n",
    "    high = len(lst) - 1\n",
    "    i = 0 # no. of iterations\n",
    "    while low <= high: # while I have not narrowed down to one element\n",
    "        mid = (low + high)//2\n",
    "        guess = lst[mid]\n",
    "        i += 1\n",
    "\n",
    "        # is guess equal?\n",
    "        if guess == item:\n",
    "            return [mid, i]\n",
    "        # if guess is lower, update low\n",
    "        elif guess < item:\n",
    "            low = mid + 1\n",
    "        # if guess is higher, update high\n",
    "        else:\n",
    "            high = mid - 1\n",
    "\n",
    "    return [None, i]\n"
   ]
  },
  {
   "cell_type": "code",
   "execution_count": 25,
   "metadata": {},
   "outputs": [
    {
     "name": "stdout",
     "output_type": "stream",
     "text": [
      "Search for: 28\n",
      "Found at index: 14\n"
     ]
    }
   ],
   "source": [
    "import random\n",
    "mylist = range(0, 100, 2)\n",
    "item = random.randint(0,99)\n",
    "print(f\"Search for: {item}\")\n",
    "print(f\"Found at index: {binary_search(mylist, item)[0]}\")"
   ]
  },
  {
   "cell_type": "markdown",
   "metadata": {},
   "source": [
    "2. Selection Sort"
   ]
  },
  {
   "cell_type": "code",
   "execution_count": 5,
   "metadata": {},
   "outputs": [],
   "source": [
    "# finding the smallest element\n",
    "def findSmallest(arr):\n",
    "    '''\n",
    "    Returns the index of the smallest number in the array\n",
    "    '''\n",
    "    smallest = arr[0]\n",
    "    smallest_index = 0\n",
    "    for i in range(1, len(arr)):\n",
    "        # check for smaller element\n",
    "        if arr[i] < smallest:\n",
    "            smallest = arr[i]\n",
    "            smallest_index = i\n",
    "    return smallest_index"
   ]
  },
  {
   "cell_type": "code",
   "execution_count": 6,
   "metadata": {},
   "outputs": [
    {
     "name": "stdout",
     "output_type": "stream",
     "text": [
      "Index of smallest number: 3\n"
     ]
    }
   ],
   "source": [
    "myarray = [4, 9, 3, 1, 7, 5]\n",
    "print(f'Index of smallest number: {findSmallest(myarray)}')"
   ]
  },
  {
   "cell_type": "code",
   "execution_count": 7,
   "metadata": {},
   "outputs": [],
   "source": [
    "# function to sort from smallest to largest\n",
    "def selectionSort(arr):\n",
    "    # empty array to store sorted list\n",
    "    sortedArray = []\n",
    "\n",
    "    # iteration: keep removing smallest value and adding to new array\n",
    "    for i in range(len(arr)):\n",
    "        smallest = findSmallest(arr)\n",
    "        sortedArray.append(arr.pop(smallest))\n",
    "\n",
    "    # finally, return the new sorted array\n",
    "    return sortedArray"
   ]
  },
  {
   "cell_type": "code",
   "execution_count": 8,
   "metadata": {},
   "outputs": [
    {
     "name": "stdout",
     "output_type": "stream",
     "text": [
      "Sorted array: [1, 3, 4, 5, 7, 9]\n"
     ]
    }
   ],
   "source": [
    "myarray = [4, 9, 3, 1, 7, 5]\n",
    "print(f\"Sorted array: {selectionSort(myarray)}\")"
   ]
  },
  {
   "cell_type": "markdown",
   "metadata": {},
   "source": [
    "#### Recursion"
   ]
  },
  {
   "cell_type": "code",
   "execution_count": 4,
   "metadata": {},
   "outputs": [],
   "source": [
    "def countdown(i):\n",
    "    print(i)\n",
    "    if i == 0: # base case\n",
    "        return False\n",
    "    # recursive case\n",
    "    countdown(i-1)"
   ]
  },
  {
   "cell_type": "code",
   "execution_count": 5,
   "metadata": {},
   "outputs": [
    {
     "name": "stdout",
     "output_type": "stream",
     "text": [
      "10\n",
      "9\n",
      "8\n",
      "7\n",
      "6\n",
      "5\n",
      "4\n",
      "3\n",
      "2\n",
      "1\n",
      "0\n"
     ]
    }
   ],
   "source": [
    "countdown(10)"
   ]
  },
  {
   "cell_type": "markdown",
   "metadata": {},
   "source": [
    "#### The Call Stack"
   ]
  },
  {
   "cell_type": "code",
   "execution_count": 6,
   "metadata": {},
   "outputs": [],
   "source": [
    "def greet2(name):\n",
    "    print(f\"How are you, {name}\")\n",
    "\n",
    "def bye():\n",
    "    print(\"Ok, bye\")\n",
    "\n",
    "def greet(name):\n",
    "    print(f\"Hello {name}\")\n",
    "    greet2(name)\n",
    "    # partially completed state of greet(name). Its variable\n",
    "    # values still stored in memory\n",
    "    print(\"Getting ready to say bye\")\n",
    "    bye()\n",
    "    # \n"
   ]
  },
  {
   "cell_type": "code",
   "execution_count": 7,
   "metadata": {},
   "outputs": [
    {
     "name": "stdout",
     "output_type": "stream",
     "text": [
      "Hello Cedric\n",
      "How are you, Cedric\n",
      "Getting ready to say bye\n",
      "Ok, bye\n"
     ]
    }
   ],
   "source": [
    "greet(\"Cedric\")"
   ]
  },
  {
   "cell_type": "code",
   "execution_count": 8,
   "metadata": {},
   "outputs": [],
   "source": [
    "def fact(x):\n",
    "    if x == 1:\n",
    "        return 1\n",
    "    else:\n",
    "        return x*fact(x-1)"
   ]
  },
  {
   "cell_type": "code",
   "execution_count": 12,
   "metadata": {},
   "outputs": [
    {
     "data": {
      "text/plain": [
       "120"
      ]
     },
     "execution_count": 12,
     "metadata": {},
     "output_type": "execute_result"
    }
   ],
   "source": [
    "# fact(5)\n",
    "# Three calls of fact(x) are made in total"
   ]
  },
  {
   "cell_type": "code",
   "execution_count": 26,
   "metadata": {},
   "outputs": [
    {
     "data": {
      "text/plain": [
       "12"
      ]
     },
     "execution_count": 26,
     "metadata": {},
     "output_type": "execute_result"
    }
   ],
   "source": [
    "# sum of array by recursion\n",
    "def sum_array(arr):\n",
    "    if len(arr) == 1:\n",
    "        return arr[0]\n",
    "    return arr[0] + sum_array(arr[1:])\n",
    "\n",
    "sum_array([2,4,6])"
   ]
  },
  {
   "cell_type": "code",
   "execution_count": 27,
   "metadata": {},
   "outputs": [
    {
     "data": {
      "text/plain": [
       "4"
      ]
     },
     "execution_count": 27,
     "metadata": {},
     "output_type": "execute_result"
    }
   ],
   "source": [
    "# counting items in a list by recursion\n",
    "def count(arr):\n",
    "    if len(arr) == 1:\n",
    "        return 1\n",
    "    return 1 + count(arr[1:])\n",
    "\n",
    "count([2,4,6,8])"
   ]
  },
  {
   "cell_type": "code",
   "execution_count": 21,
   "metadata": {},
   "outputs": [
    {
     "data": {
      "text/plain": [
       "29"
      ]
     },
     "execution_count": 21,
     "metadata": {},
     "output_type": "execute_result"
    }
   ],
   "source": [
    "# finding the maximum number in a list by recursion\n",
    "def maximum(arr):\n",
    "    if len(arr) == 1:\n",
    "        return arr[0]\n",
    "    if arr[0] < arr[1]:\n",
    "        arr.pop(0)\n",
    "        return maximum(arr)\n",
    "    arr.pop(1)\n",
    "    return maximum(arr)\n",
    "\n",
    "maximum([2,4,6,8,3,11,17,2,29])"
   ]
  },
  {
   "cell_type": "code",
   "execution_count": 28,
   "metadata": {},
   "outputs": [
    {
     "data": {
      "text/plain": [
       "29"
      ]
     },
     "execution_count": 28,
     "metadata": {},
     "output_type": "execute_result"
    }
   ],
   "source": [
    "# finding the maximum number in a list by recursion2\n",
    "def maximum(arr):\n",
    "    if len(arr) == 2:\n",
    "        return arr[0] if arr[0] > arr[1] else arr[1]\n",
    "    sub_max = maximum(arr[1:])\n",
    "    return arr[0] if arr[0] > sub_max else sub_max\n",
    "\n",
    "maximum([2,4,6,8,3,11,17,2,29])"
   ]
  },
  {
   "cell_type": "markdown",
   "metadata": {},
   "source": [
    "#### Quicksort\n",
    "Procedure\n",
    "1. Pick a pivot element\n",
    "2. Split remaining array elements into 2 sub-arrays: Less and Greater than pivot\n",
    "3. Call function recursively on the sub-arrays"
   ]
  },
  {
   "cell_type": "code",
   "execution_count": 4,
   "metadata": {},
   "outputs": [
    {
     "data": {
      "text/plain": [
       "[1, 2, 3, 4, 6, 7, 10, 11, 12]"
      ]
     },
     "execution_count": 4,
     "metadata": {},
     "output_type": "execute_result"
    }
   ],
   "source": [
    "def quicksort(array):\n",
    "    # base case\n",
    "    if len(array) < 2:\n",
    "        return array\n",
    "    else:\n",
    "        # recursive case\n",
    "        pivot = array[0]\n",
    "        less = [i for i in array[1:] if i < pivot]\n",
    "        greater = [i for i in array[1:] if i > pivot]\n",
    "        return quicksort(less) + [pivot] + quicksort(greater)\n",
    "\n",
    "quicksort([10,11,3,2,7,4,6,12,1])\n"
   ]
  },
  {
   "cell_type": "markdown",
   "metadata": {},
   "source": [
    "### Hash Tables"
   ]
  },
  {
   "cell_type": "code",
   "execution_count": 11,
   "metadata": {},
   "outputs": [],
   "source": [
    "phonebook = dict()\n",
    "phonebook[\"jenny\"] = 123445\n",
    "phonebook[\"emergency\"] = 911"
   ]
  },
  {
   "cell_type": "code",
   "execution_count": 22,
   "metadata": {},
   "outputs": [
    {
     "name": "stdout",
     "output_type": "stream",
     "text": [
      "Get in\n"
     ]
    }
   ],
   "source": [
    "if phonebook.get(\"jenn\"):\n",
    "    print(\"get out\")\n",
    "else:\n",
    "    print(\"Get in\")"
   ]
  },
  {
   "cell_type": "markdown",
   "metadata": {},
   "source": [
    "### Graph Algorithms\n",
    "#### Breadth-First Search\n",
    "Finds the path with the fewest segments (Which is not necessarily the fastest one)"
   ]
  },
  {
   "cell_type": "code",
   "execution_count": 1,
   "metadata": {},
   "outputs": [],
   "source": [
    "graph = dict()\n",
    "graph[\"you\"] = [\"alice\", \"bob\", \"claire\"]\n",
    "graph[\"alice\"] = [\"peggy\"]\n",
    "graph[\"bob\"] = [\"anuj\", \"peggy\"]\n",
    "graph[\"claire\"] = [\"thor\", \"jonny\"]\n",
    "graph[\"anuj\"] = []\n",
    "graph[\"jonny\"] = []\n",
    "graph[\"peggy\"] = []\n",
    "graph[\"thor\"] = []"
   ]
  },
  {
   "cell_type": "code",
   "execution_count": 2,
   "metadata": {},
   "outputs": [
    {
     "name": "stdout",
     "output_type": "stream",
     "text": [
      "{\n",
      "    \"you\": [\n",
      "        \"alice\",\n",
      "        \"bob\",\n",
      "        \"claire\"\n",
      "    ],\n",
      "    \"alice\": [\n",
      "        \"peggy\"\n",
      "    ],\n",
      "    \"bob\": [\n",
      "        \"anuj\",\n",
      "        \"peggy\"\n",
      "    ],\n",
      "    \"claire\": [\n",
      "        \"thor\",\n",
      "        \"jonny\"\n",
      "    ],\n",
      "    \"anuj\": [],\n",
      "    \"jonny\": [],\n",
      "    \"peggy\": [],\n",
      "    \"thor\": []\n",
      "}\n"
     ]
    }
   ],
   "source": [
    "# display graph as json\n",
    "import json\n",
    "json_object = json.dumps(graph, indent=4)\n",
    "print(json_object)"
   ]
  },
  {
   "cell_type": "code",
   "execution_count": 5,
   "metadata": {},
   "outputs": [],
   "source": [
    "from collections import deque\n",
    "\n",
    "def bf_search(graph, name):\n",
    "    # begin queue with people to check in immediate contact list\n",
    "    queue = deque()\n",
    "    for i in graph[name]:\n",
    "        queue.append(i)\n",
    "    print(f\"Queue: {queue}\")\n",
    "    searched = []\n",
    "\n",
    "    while queue:\n",
    "        # pop first person from the queue\n",
    "        person = queue.popleft()\n",
    "        \n",
    "        # verify that the person has not been searched\n",
    "        if not person in searched:\n",
    "            searched.append(person)\n",
    "            # check if person is a mango seller\n",
    "            if person_is_seller(person):\n",
    "                # print(f\"{person} is seller\")\n",
    "                print(f\"Searched: {searched}\")\n",
    "                return f\"{person} is seller\"\n",
    "            else:\n",
    "                # add all neighbours of person to queue if not a mango seller\n",
    "                for i in graph[person]:\n",
    "                    queue.append(i)\n",
    "                \n",
    "    print(f\"Searched: {searched}\")\n",
    "    return \"No seller\"\n",
    "\n",
    "def person_is_seller(name):\n",
    "    return \"m\" in name"
   ]
  },
  {
   "cell_type": "code",
   "execution_count": 6,
   "metadata": {},
   "outputs": [
    {
     "name": "stdout",
     "output_type": "stream",
     "text": [
      "Queue: deque(['alice', 'bob', 'claire'])\n",
      "Searched: ['alice', 'bob', 'claire', 'peggy', 'anuj', 'thor', 'jonny']\n"
     ]
    },
    {
     "data": {
      "text/plain": [
       "'No seller'"
      ]
     },
     "execution_count": 6,
     "metadata": {},
     "output_type": "execute_result"
    }
   ],
   "source": [
    "bf_search(graph, \"you\")"
   ]
  },
  {
   "cell_type": "markdown",
   "metadata": {},
   "source": [
    "## Dijkstra's Algorithm\n",
    "Finds the shortest/fastest path between two nodes on a graph"
   ]
  },
  {
   "cell_type": "code",
   "execution_count": 17,
   "metadata": {},
   "outputs": [],
   "source": [
    "# GRAPH\n",
    "graph = {}\n",
    "graph[\"start\"] = {}\n",
    "graph[\"start\"][\"a\"] = 6\n",
    "graph[\"start\"][\"b\"] = 2\n",
    "graph[\"a\"] = {}\n",
    "graph[\"a\"][\"fin\"] = 1\n",
    "graph[\"b\"] = {}\n",
    "graph[\"b\"][\"a\"] = 3\n",
    "graph[\"b\"][\"fin\"] = 5\n",
    "graph[\"fin\"] = {}"
   ]
  },
  {
   "cell_type": "code",
   "execution_count": 18,
   "metadata": {},
   "outputs": [
    {
     "name": "stdout",
     "output_type": "stream",
     "text": [
      "{\n",
      "    \"start\": {\n",
      "        \"a\": 6,\n",
      "        \"b\": 2\n",
      "    },\n",
      "    \"a\": {\n",
      "        \"fin\": 1\n",
      "    },\n",
      "    \"b\": {\n",
      "        \"a\": 3,\n",
      "        \"fin\": 5\n",
      "    },\n",
      "    \"fin\": {}\n",
      "}\n"
     ]
    }
   ],
   "source": [
    "import json\n",
    "print(json.dumps(graph, indent=4))"
   ]
  },
  {
   "cell_type": "code",
   "execution_count": 35,
   "metadata": {},
   "outputs": [],
   "source": [
    "# COSTS\n",
    "costs = {}\n",
    "costs[\"a\"] = 6\n",
    "costs[\"b\"] = 2\n",
    "costs[\"fin\"] = float(\"inf\")"
   ]
  },
  {
   "cell_type": "code",
   "execution_count": 37,
   "metadata": {},
   "outputs": [],
   "source": [
    "# PARENTS\n",
    "parents = {}\n",
    "parents[\"a\"] = \"start\"\n",
    "parents[\"b\"] = \"start\"\n",
    "parents[\"fin\"] = None"
   ]
  },
  {
   "cell_type": "code",
   "execution_count": 48,
   "metadata": {},
   "outputs": [],
   "source": [
    "# track the processed nodes here\n",
    "processed = []"
   ]
  },
  {
   "cell_type": "code",
   "execution_count": 56,
   "metadata": {},
   "outputs": [
    {
     "data": {
      "text/plain": [
       "['start', 'a', 'b', 'fin']"
      ]
     },
     "execution_count": 56,
     "metadata": {},
     "output_type": "execute_result"
    }
   ],
   "source": [
    "nodes = list(graph.keys())\n",
    "nodes"
   ]
  },
  {
   "cell_type": "code",
   "execution_count": 64,
   "metadata": {},
   "outputs": [],
   "source": [
    "# find the node with the lowest cost\n",
    "def lowest_cost_node(costs):\n",
    "    # initialize\n",
    "    least_cost = float(\"inf\")\n",
    "    cheapest_node = None\n",
    "    # loop through each node\n",
    "    for node in costs:\n",
    "        if costs[node] < least_cost:\n",
    "            # keep updating the least cost with\n",
    "            # a lower value you find\n",
    "            least_cost = costs[node]\n",
    "            cheapest_node = node\n",
    "    return cheapest_node"
   ]
  },
  {
   "cell_type": "code",
   "execution_count": 65,
   "metadata": {},
   "outputs": [
    {
     "data": {
      "text/plain": [
       "'b'"
      ]
     },
     "execution_count": 65,
     "metadata": {},
     "output_type": "execute_result"
    }
   ],
   "source": [
    "lowest_cost_node(costs)"
   ]
  },
  {
   "cell_type": "code",
   "execution_count": 63,
   "metadata": {},
   "outputs": [
    {
     "data": {
      "text/plain": [
       "{'a': 6, 'b': 2, 'fin': inf}"
      ]
     },
     "execution_count": 63,
     "metadata": {},
     "output_type": "execute_result"
    }
   ],
   "source": [
    "costs"
   ]
  },
  {
   "cell_type": "code",
   "execution_count": null,
   "metadata": {},
   "outputs": [],
   "source": []
  }
 ],
 "metadata": {
  "interpreter": {
   "hash": "a908dbd2f733dad9800dcf81a37b85816edfdee41987f1a32fbdefa9e5844583"
  },
  "kernelspec": {
   "display_name": "Python 3.7.11 ('images2')",
   "language": "python",
   "name": "python3"
  },
  "language_info": {
   "codemirror_mode": {
    "name": "ipython",
    "version": 3
   },
   "file_extension": ".py",
   "mimetype": "text/x-python",
   "name": "python",
   "nbconvert_exporter": "python",
   "pygments_lexer": "ipython3",
   "version": "3.7.11"
  },
  "orig_nbformat": 4
 },
 "nbformat": 4,
 "nbformat_minor": 2
}
